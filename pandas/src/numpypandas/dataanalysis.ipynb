{
 "cells": [
  {
   "cell_type": "markdown",
   "metadata": {},
   "source": [
    "# Pandas and Numpy: 1 Dimensional Data\n",
    "Numpy stands for Numerical Python.\n",
    "\n",
    "Both, Pandas and Numpy have data structures used to represent one dimensional data. In Pandas this is called a `Series`, whereas in Numpy this is an `Array`. Pandas `Series` are built on top of Numpy `Arrays` and have more features than the Numpy `Arrays`, however the Numpy `Array` is simpler.\n",
    "\n",
    "## Numpy Array\n",
    "A Numpy Array is similar to a python list, in that it contains a sequence of elements. The following are the similarities and differences\n",
    "\n",
    "#### Similarities\n",
    " * Elements are accessed by position (indexed at 0) eg. numarr[0]\n",
    " * Range of elements accessible using slicing. eg. numarr[2:5]\n",
    " * Loops can be used to access elements. eg. for elem in numarr:\n",
    "\n",
    "#### Differences\n",
    " * Numpy arrays are *designed* for each element to have the same data type. They can be different but its not recommended you do so\n",
    " * The arrays offer a set of convenient functions eg. numarr.mean(), numarr.std()\n",
    " * Can be multi-dimensional: Similar to making a built-in list of lists.\n",
    " * Support for vector operations"
   ]
  },
  {
   "cell_type": "code",
   "execution_count": 98,
   "metadata": {},
   "outputs": [],
   "source": [
    "%matplotlib inline\n",
    "\n",
    "import pandas as pd\n",
    "import numpy as np"
   ]
  },
  {
   "cell_type": "code",
   "execution_count": 65,
   "metadata": {},
   "outputs": [
    {
     "name": "stdout",
     "output_type": "stream",
     "text": [
      "58.68500003850001\n",
      "9.338269113687888\n",
      "75.69999695\n",
      "1173.70000077\n",
      "3\n",
      "[4.62891481 3.10098244 6.72098247 4.05874246 4.8929953  5.53658704\n",
      " 4.26984272 4.72204392 6.71034349 4.87957272]\n",
      "[55.70000076 51.40000153 50.5        75.69999695 58.40000153 40.09999847\n",
      " 61.5        57.09999847 60.90000153 66.59999847 60.40000153 68.09999847\n",
      " 66.90000153 53.40000153 48.59999847 56.79999924 71.59999847 58.40000153\n",
      " 70.40000153 41.20000076]\n"
     ]
    }
   ],
   "source": [
    "# Change False to True for each block of code to see what it does\n",
    "countries = np.array([\n",
    "    'Afghanistan', 'Albania', 'Algeria', 'Angola', 'Argentina',\n",
    "    'Armenia', 'Australia', 'Austria', 'Azerbaijan', 'Bahamas',\n",
    "    'Bahrain', 'Bangladesh', 'Barbados', 'Belarus', 'Belgium',\n",
    "    'Belize', 'Benin', 'Bhutan', 'Bolivia',\n",
    "    'Bosnia and Herzegovina'\n",
    "])\n",
    "\n",
    "employment = np.array([\n",
    "    55.70000076,  51.40000153,  50.5       ,  75.69999695,\n",
    "    58.40000153,  40.09999847,  61.5       ,  57.09999847,\n",
    "    60.90000153,  66.59999847,  60.40000153,  68.09999847,\n",
    "    66.90000153,  53.40000153,  48.59999847,  56.79999924,\n",
    "    71.59999847,  58.40000153,  70.40000153,  41.20000076\n",
    "])\n",
    "\n",
    "# Accessing elements\n",
    "if False:\n",
    "    print(countries[0])\n",
    "    print(countries[-2])\n",
    "\n",
    "# Slicing\n",
    "if False:\n",
    "    print(countries[0:3])\n",
    "#    print(countries[:3])\n",
    "#     print(countries[17:])\n",
    "    print(countries[-3:])\n",
    "    print(countries[:])\n",
    "    print(countries[::-1])\n",
    "\n",
    "# Element types\n",
    "if False:\n",
    "    print(countries.dtype)\n",
    "    print(employment.dtype)\n",
    "    print(np.array([0, 1, 2, 3]).dtype)\n",
    "    print(np.array([1.0, 1.5, 2.0, 2.5]).dtype)\n",
    "    print(np.array([True, False, True]).dtype)\n",
    "    print(np.array(['AL', 'AK', 'AZ', 'AR', 'CA']).dtype)\n",
    "\n",
    "# Looping\n",
    "if False:\n",
    "    for emp in employment:\n",
    "        print('Examining employment {}'.format(emp))\n",
    "\n",
    "\n",
    "# Numpy functions\n",
    "if True:\n",
    "    print(employment.mean())\n",
    "    print(employment.std())\n",
    "    print(employment.max())\n",
    "    print(employment.sum())\n",
    "    print(employment.argmax())\n",
    "    \n",
    "    print(np.random.randn(10) + 5)\n",
    "    \n",
    "    print(employment)"
   ]
  },
  {
   "cell_type": "markdown",
   "metadata": {},
   "source": [
    "#### Exercise \n",
    "\n",
    "Try to find the maximum employment value in the list of employment values and the corresponding country that has that maximum employment value"
   ]
  },
  {
   "cell_type": "code",
   "execution_count": 32,
   "metadata": {},
   "outputs": [
    {
     "name": "stdout",
     "output_type": "stream",
     "text": [
      "('Angola', 75.699996949999999)\n"
     ]
    }
   ],
   "source": [
    "# First 20 countries with employment data\n",
    "countries = np.array([\n",
    "    'Afghanistan', 'Albania', 'Algeria', 'Angola', 'Argentina',\n",
    "    'Armenia', 'Australia', 'Austria', 'Azerbaijan', 'Bahamas',\n",
    "    'Bahrain', 'Bangladesh', 'Barbados', 'Belarus', 'Belgium',\n",
    "    'Belize', 'Benin', 'Bhutan', 'Bolivia',\n",
    "    'Bosnia and Herzegovina'\n",
    "])\n",
    "\n",
    "# Employment data in 2007 for those 20 countries\n",
    "employment = np.array([\n",
    "    55.70000076,  51.40000153,  50.5       ,  75.69999695,\n",
    "    58.40000153,  40.09999847,  61.5       ,  57.09999847,\n",
    "    60.90000153,  66.59999847,  60.40000153,  68.09999847,\n",
    "    66.90000153,  53.40000153,  48.59999847,  56.79999924,\n",
    "    71.59999847,  58.40000153,  70.40000153,  41.20000076\n",
    "])\n",
    "\n",
    "\n",
    "def max_employment(countries, employment):\n",
    "    \"\"\"\n",
    "    Fill in this function to return the name of the country\n",
    "    with the highest employment in the given employment\n",
    "    data, and the employment in that country.\n",
    "    \n",
    "    Hint: Look up np.argmax()\n",
    "    \"\"\"\n",
    "    return countries[employment.argmax()], employment.max()\n",
    "\n",
    "print(max_employment(countries, employment))"
   ]
  },
  {
   "cell_type": "markdown",
   "metadata": {},
   "source": [
    "### Vector operations\n",
    "Numpy arrays come with support for various vector operations. This where the arrays are worked up as matrices in the linear algebra model.\n",
    "\n",
    " * Math operations: +, -, *, /\n",
    " * Logical operations: |, &, ~ (Not)\n",
    " * Comparison operations: >, <, ==, !="
   ]
  },
  {
   "cell_type": "code",
   "execution_count": 32,
   "metadata": {},
   "outputs": [
    {
     "name": "stdout",
     "output_type": "stream",
     "text": [
      "Python builtin lists\n",
      "[1, 2, 3, 4, 5, 6]\n",
      "\n",
      "Numpy Arrays\n",
      "[5 7 9]\n",
      "[ 4 10 18]\n",
      "[False False False]\n",
      "[-9 -8 -7]\n",
      "[ True False  True]\n"
     ]
    }
   ],
   "source": [
    "lista = [1, 2, 3]\n",
    "listb = [4, 5, 6]\n",
    "\n",
    "print(\"Python builtin lists\")\n",
    "print(lista + listb)\n",
    "\n",
    "a = np.array(lista)\n",
    "b = np.array(listb) \n",
    "\n",
    "print(\"\\nNumpy Arrays\")\n",
    "print(a + b)\n",
    "print(a * b)\n",
    "print(a > b)\n",
    "\n",
    "c = 10\n",
    "print(a - c)\n",
    "\n",
    "logica = np.array([True, False, True])\n",
    "logicb = np.array([False, False, False])\n",
    "\n",
    "\n",
    "print(logica | logicb)"
   ]
  },
  {
   "cell_type": "markdown",
   "metadata": {},
   "source": [
    "#### Exercise\n",
    "For the employment array provided above, calculate another array that lists out the deviation of each from the mean in multiples of standard deviations. So if a data set has a mean of 10 and a standard deviation of 2, then a value of 12 is 1 standard deviation away from the mean (12 - 10)/2"
   ]
  },
  {
   "cell_type": "code",
   "execution_count": 35,
   "metadata": {
    "scrolled": true
   },
   "outputs": [
    {
     "name": "stdout",
     "output_type": "stream",
     "text": [
      "[-2.14172412 -2.60219481 -2.69857258  0.         -1.85259123 -3.8122695\n",
      " -1.52062409 -1.99180365 -1.58487566 -0.9744845  -1.63841877 -0.81385516\n",
      " -0.9423583  -2.38802236 -2.90203657 -2.02392943 -0.43905337 -1.85259123\n",
      " -0.56755651 -3.6944744 ]\n"
     ]
    }
   ],
   "source": [
    "def standardize_data(employment):\n",
    "    \"\"\"\n",
    "    Standardize it to have each element in the array contain the multiple of standard deviations away\n",
    "    from the mean\n",
    "    :param employment: \n",
    "    :return: \n",
    "    \"\"\"\n",
    "    # For each element, calculate its difference from the mean and divide by the standard deviation\n",
    "    # to determine how many std_devs away from the mean the value is.\n",
    "    mean = employment.max()\n",
    "    std = employment.std()\n",
    "    \n",
    "    return (employment - mean) / std\n",
    "\n",
    "std_emp = standardize_data(employment)\n",
    "print(std_emp)"
   ]
  },
  {
   "cell_type": "markdown",
   "metadata": {},
   "source": [
    "### In Place\n",
    "Note that certain operators in Numpy result in operations performed in place, rather than on copies or new values of the array.\n",
    "\n",
    "#### + vs +=\n",
    "Consider this snippet"
   ]
  },
  {
   "cell_type": "code",
   "execution_count": 38,
   "metadata": {},
   "outputs": [
    {
     "name": "stdout",
     "output_type": "stream",
     "text": [
      "[3 4 5 6 7]\n",
      "[3 4 5 6 7]\n"
     ]
    }
   ],
   "source": [
    "a = np.array([1, 2, 3, 4, 5])\n",
    "b = a\n",
    "\n",
    "a += 2 \n",
    "# a = a + 2\n",
    "print(a)\n",
    "print(b)"
   ]
  },
  {
   "cell_type": "markdown",
   "metadata": {},
   "source": [
    "Here the += operator modifies the existing array in place, i.e. it does not create a new array and shift a's reference to it. Instead, with both a and b pointing to the same array, the += modifies the array in place, which is why b also sees the updated values.\n",
    "\n",
    "This is different from how + works, which, as one would expect, creates a new array and shifts the pointer reference"
   ]
  },
  {
   "cell_type": "code",
   "execution_count": 7,
   "metadata": {},
   "outputs": [
    {
     "name": "stdout",
     "output_type": "stream",
     "text": [
      "[3 6 9]\n",
      "[ 6  9 12]\n"
     ]
    }
   ],
   "source": [
    "a = np.array([3, 6, 9])\n",
    "b = a\n",
    "a = a + 3\n",
    "print(b)\n",
    "print(a)"
   ]
  },
  {
   "cell_type": "markdown",
   "metadata": {},
   "source": [
    "#### Slicing\n",
    "Slicing in numpy arrays works differently than on python lists. A slice of a numpy array creates a `view` into the same array based on the bounds of the slice. Thus modifications to the view (or slice) will result in modifications to the original array"
   ]
  },
  {
   "cell_type": "code",
   "execution_count": 45,
   "metadata": {},
   "outputs": [
    {
     "name": "stdout",
     "output_type": "stream",
     "text": [
      "Python lists\n",
      "[1, 2, 3, 4, 5, 6]\n",
      "[1, 2, 300]\n"
     ]
    }
   ],
   "source": [
    "\n",
    "# Python built-in lists\n",
    "print(\"Python lists\")\n",
    "a = [1,2,3,4,5,6]\n",
    "b = a[:3]\n",
    "b[2] = 300\n",
    "\n",
    "print(a)\n",
    "print(b)"
   ]
  },
  {
   "cell_type": "markdown",
   "metadata": {},
   "source": [
    "### Index Arrays\n",
    "Numpy Arrays can be used as indexes into other Numpy arrays to return a filtered list of elements. You would start with a numpy array, and then combine it with an array of booleans which would just return the elements from the first array for which the booleans were true"
   ]
  },
  {
   "cell_type": "code",
   "execution_count": 64,
   "metadata": {},
   "outputs": [
    {
     "name": "stdout",
     "output_type": "stream",
     "text": [
      "[1 3]\n",
      "['Alvin' 'Byul']\n"
     ]
    }
   ],
   "source": [
    "a = np.array([1, 2, 3])\n",
    "b = np.array([True, False, True])\n",
    "\n",
    "# print(a[b])\n",
    "\n",
    "# print(a)\n",
    "# print(a[b])\n",
    "filter = b\n",
    "print(a[filter])\n",
    "\n",
    "\n",
    "names = np.array(['Alvin', 'Byul', 'Nikhil'])\n",
    "ages = np.array([1, 2, 100])\n",
    "\n",
    "print(names[ages < 5])"
   ]
  },
  {
   "cell_type": "markdown",
   "metadata": {},
   "source": [
    "This could be further concised down and used as a filter. eg. To print out the elements of a that are greater than 2, you would use index arrays like so"
   ]
  },
  {
   "cell_type": "code",
   "execution_count": 57,
   "metadata": {},
   "outputs": [
    {
     "name": "stdout",
     "output_type": "stream",
     "text": [
      "[False False  True]\n",
      "[2 3]\n"
     ]
    }
   ],
   "source": [
    "# a > 2 returns an array of booleans\n",
    "print(a > 2)\n",
    "print(a[a >= 2])"
   ]
  },
  {
   "cell_type": "markdown",
   "metadata": {},
   "source": [
    "Here (a > 2) creates an index array of booleans [False, False, True], which when used as an index into a, will return just the elements of a for which the index is True"
   ]
  },
  {
   "cell_type": "code",
   "execution_count": 93,
   "metadata": {},
   "outputs": [
    {
     "name": "stdout",
     "output_type": "stream",
     "text": [
      "[2 2]\n"
     ]
    }
   ],
   "source": [
    "# Using index arrays\n",
    "if False:\n",
    "    a = np.array([1, 2, 3, 4])\n",
    "    b = np.array([True, True, False, False])\n",
    "    \n",
    "    print(a[b])\n",
    "    print(a[np.array([True, False, True, False])])\n",
    "    \n",
    "# Creating the index array using vectorized operations\n",
    "if False:\n",
    "    a = np.array([1, -12, -3, 2, 1])\n",
    "    b = (a > 0)\n",
    "\n",
    "    print(a)\n",
    "    print(b)\n",
    "    print(a[b])\n",
    "    print(a[a >= 2])\n",
    "    \n",
    "# Creating the index array using vectorized operations on another array\n",
    "if True:\n",
    "    a = np.array([1, 2, 3, 4, 5])\n",
    "    b = np.array([1, 2, 3, 2, 1])\n",
    "    \n",
    "#     print(b == 2)\n",
    "    print(b[b == 2])"
   ]
  },
  {
   "cell_type": "markdown",
   "metadata": {},
   "source": [
    "#### Exercise\n",
    "\n",
    "For the standardised employment array, print out the employment value for a given country. \n",
    "\n",
    "To do this you should create an index from the countries array for the country that you need and index that into the std_emp array. You can assume for this exercise that the country and employment arrays are the same length with corresponding array indexes."
   ]
  },
  {
   "cell_type": "code",
   "execution_count": 98,
   "metadata": {},
   "outputs": [
    {
     "name": "stdout",
     "output_type": "stream",
     "text": [
      "[ 75.69999695]\n",
      "['Afghanistan' 'Angola' 'Argentina' 'Australia' 'Austria' 'Azerbaijan'\n",
      " 'Bahamas' 'Bahrain' 'Bangladesh' 'Barbados' 'Belarus' 'Belize' 'Benin'\n",
      " 'Bhutan' 'Bolivia']\n"
     ]
    }
   ],
   "source": [
    "country = \"Angola\"\n",
    "print(employment[countries == country])\n",
    "print(countries[employment > 53])"
   ]
  },
  {
   "cell_type": "markdown",
   "metadata": {},
   "source": [
    "## Pandas Series\n",
    "\n",
    "A Series is a data structure from the Pandas data library that is used for one-dimensional data. It supports for all operations found on numpy arrays (indexes access, looping, vector operations, etc.) but also provides added functionality. "
   ]
  },
  {
   "cell_type": "markdown",
   "metadata": {},
   "source": [
    "### Pandas Series Indexes\n",
    "\n",
    "It is useful to think of Pandas Series a cross between a Dictionary and a List. In a Series, as in Numpy Array, elements can be accessed by their index like so `series[0]`. However in a Series, you can go further. Data in a Series can be accessed in the following ways\n",
    "\n",
    "* Integer Index eg. `series[0]` or `series.iloc[0]`\n",
    "* Associative access using an Index Array eg. `stock_returns[\"IBM\"]` or `stock_returns.loc[\"IBM\"]`\n",
    " * A Series can have an associated Index Array, and you can use values from this Index array to lookup values in the Series regardless of their actual location. Consider the following example"
   ]
  },
  {
   "cell_type": "code",
   "execution_count": 75,
   "metadata": {},
   "outputs": [
    {
     "name": "stdout",
     "output_type": "stream",
     "text": [
      "count    5.00000\n",
      "mean     0.04200\n",
      "std      0.08167\n",
      "min     -0.10000\n",
      "25%      0.05000\n",
      "50%      0.07000\n",
      "75%      0.09000\n",
      "max      0.10000\n",
      "dtype: float64\n"
     ]
    }
   ],
   "source": [
    "stock_returns = pd.Series([0.05, 0.10, 0.07, -0.10, 0.09], index=['IBM', 'GOOG', 'AMZN', 'GE', 'GM'])\n",
    "\n",
    "# print(stock_returns)\n",
    "\n",
    "# Numeric indexed access\n",
    "# print(stock_returns[0])\n",
    "# print(stock_returns.iloc[0])\n",
    "\n",
    "# Associative index access\n",
    "# print(stock_returns[\"GOOG\"])\n",
    "# print(stock_returns.loc['GOOG'])\n",
    "\n",
    "print(stock_returns.describe())"
   ]
  },
  {
   "cell_type": "markdown",
   "metadata": {},
   "source": [
    "#### Exercise\n",
    "\n",
    "Given two data sets of countries and employment values, write a function that returns back the country with the maximum employment value and the name of that country"
   ]
  },
  {
   "cell_type": "code",
   "execution_count": 76,
   "metadata": {},
   "outputs": [
    {
     "data": {
      "text/plain": [
       "(75.69999695, 'Angola')"
      ]
     },
     "execution_count": 76,
     "metadata": {},
     "output_type": "execute_result"
    }
   ],
   "source": [
    "countries = [\n",
    "    'Afghanistan', 'Albania', 'Algeria', 'Angola', 'Argentina',\n",
    "    'Armenia', 'Australia', 'Austria', 'Azerbaijan', 'Bahamas',\n",
    "    'Bahrain', 'Bangladesh', 'Barbados', 'Belarus', 'Belgium',\n",
    "    'Belize', 'Benin', 'Bhutan', 'Bolivia',\n",
    "    'Bosnia and Herzegovina'\n",
    "]\n",
    "\n",
    "employment_values = [\n",
    "    55.70000076, 51.40000153, 50.5, 75.69999695,\n",
    "    58.40000153, 40.09999847, 61.5, 57.09999847,\n",
    "    60.90000153, 66.59999847, 60.40000153, 68.09999847,\n",
    "    66.90000153, 53.40000153, 48.59999847, 56.79999924,\n",
    "    71.59999847, 58.40000153, 70.40000153, 41.20000076\n",
    "]\n",
    "\n",
    "\n",
    "def max_employment(emp_series):\n",
    "    # Get the index that has the max value\n",
    "    # Hint: Use the Series.argmax() function to get the index of the max value\n",
    "    country = emp_series.idxmax()\n",
    "    return emp_series.max(), country\n",
    "\n",
    "\n",
    "# Employment data in 2007 for 20 countries\n",
    "employment = pd.Series(employment_values, index=countries)\n",
    "\n",
    "max_employment(employment)"
   ]
  },
  {
   "cell_type": "markdown",
   "metadata": {},
   "source": [
    "### Vector Operations\n",
    "\n",
    "Pandas Series has good support for vector operations similar to Numpy Arrays, however the presence of index arrays in Series make these operations more powerful. Series uses these index arrays to match up corresponding elements by index (*rather than by position*) to make for more intuitive and convenient operations. \n",
    "\n",
    "Consider the following example:"
   ]
  },
  {
   "cell_type": "code",
   "execution_count": 82,
   "metadata": {},
   "outputs": [
    {
     "name": "stdout",
     "output_type": "stream",
     "text": [
      "Alvin       0.0\n",
      "Amber      41.0\n",
      "Billy       0.0\n",
      "Charlie    71.0\n",
      "David      61.0\n",
      "dtype: float64\n"
     ]
    }
   ],
   "source": [
    "math_scores = pd.Series([11, 22, 31, 41], index=['Amber', 'Alvin', 'Charlie', 'David'])\n",
    "science_scores = pd.Series([10, 20, 30, 40], index=['Billy', 'David', 'Amber', 'Charlie'])\n",
    "\n",
    "result = math_scores + science_scores\n",
    "\n",
    "print(result.fillna(0))"
   ]
  },
  {
   "cell_type": "code",
   "execution_count": 87,
   "metadata": {},
   "outputs": [
    {
     "name": "stdout",
     "output_type": "stream",
     "text": [
      "Series([], dtype: float64)\n"
     ]
    }
   ],
   "source": [
    "# Addition when indexes are the same\n",
    "if False:\n",
    "    s1 = pd.Series([1, 2, 3, 4], index=['a', 'b', 'c', 'd'])\n",
    "    s2 = pd.Series([10, 20, 30, 40], index=['a', 'b', 'c', 'd'])\n",
    "    print(s1 * s2)\n",
    "\n",
    "# Indexes have same elements in a different order\n",
    "if False:\n",
    "    s1 = pd.Series([1, 2, 3, 4], index=['a', 'b', 'c', 'd'])\n",
    "    s2 = pd.Series([10, 20, 30, 40], index=['b', 'd', 'a', 'c'])\n",
    "    print(s1 + s2)\n",
    "\n",
    "# Indexes overlap, but do not have exactly the same elements\n",
    "if False:\n",
    "    s1 = pd.Series([1, 2, 3, 4], index=['a', 'b', 'c', 'd'])\n",
    "    s2 = pd.Series([10, 20, 30, 40], index=['c', 'd', 'e', 'f'])\n",
    "    print((s1 + s2).fillna(0))\n",
    "\n",
    "# Indexes do not overlap\n",
    "if True:\n",
    "    s1 = pd.Series([1, 2, 3, 4], index=['a', 'b', 'c', 'd'])\n",
    "    s2 = pd.Series([10, 20, 30, 40], index=['e', 'f', 'g', 'h'])\n",
    "    print((s1 + s2).dropna())"
   ]
  },
  {
   "cell_type": "markdown",
   "metadata": {},
   "source": [
    "For the case when indexes are not present in both Series, the result is `NaN`, which stands for `Not a Number`. Pandas offers several functions on the Series object to deal with these\n",
    "\n",
    "```python\n",
    "# Drop NaN elements\n",
    "Series.dropna()\n",
    "\n",
    "# Fill NaN elements with 0\n",
    "Series.fillna(0)\n",
    "```"
   ]
  },
  {
   "cell_type": "code",
   "execution_count": 88,
   "metadata": {},
   "outputs": [
    {
     "data": {
      "text/plain": [
       "a    1.0\n",
       "b    5.0\n",
       "d    4.0\n",
       "dtype: float64"
      ]
     },
     "execution_count": 88,
     "metadata": {},
     "output_type": "execute_result"
    }
   ],
   "source": [
    "# Add two Series, fill missing index elements with 0 before addition\n",
    "s1 = pd.Series([1, 2], index=['a', 'b'])\n",
    "s2 = pd.Series([3, 4], index=['b', 'd'])\n",
    "s1.add(s2, fill_value=0)"
   ]
  },
  {
   "cell_type": "markdown",
   "metadata": {},
   "source": [
    "### Math operations\n",
    "\n",
    "Like numpy, Series also has rich support for math operations that you can perform on its data.\n",
    "\n",
    "You can also think of these operations as `reduce` operations, in that they reduce an entire Series vector down to `one` value."
   ]
  },
  {
   "cell_type": "code",
   "execution_count": 89,
   "metadata": {},
   "outputs": [
    {
     "name": "stdout",
     "output_type": "stream",
     "text": [
      "26.25\n",
      "26.5\n",
      "12.789970028633114\n",
      "Amber      11\n",
      "Alvin      22\n",
      "Charlie    31\n",
      "David      41\n",
      "dtype: int64\n"
     ]
    }
   ],
   "source": [
    "if True:\n",
    "    print(math_scores.mean())\n",
    "    print(math_scores.median())\n",
    "    print(math_scores.std())\n",
    "    \n",
    "print(math_scores)\n",
    "#math_scores.describe()"
   ]
  },
  {
   "cell_type": "markdown",
   "metadata": {},
   "source": [
    "### Conditionals\n",
    "\n",
    "Pandas Series supports a similar way of conditionally filtering its elements by indexing on a Boolean array as with numpy arrays. With Pandas Series you would provide the filtering condition within the [] which would then return back all of the elements in the Series for which the condition was `True`"
   ]
  },
  {
   "cell_type": "code",
   "execution_count": 91,
   "metadata": {},
   "outputs": [
    {
     "name": "stdout",
     "output_type": "stream",
     "text": [
      "Amber      11\n",
      "Alvin      22\n",
      "Charlie    31\n",
      "David      41\n",
      "dtype: int64\n",
      "Charlie    31\n",
      "David      41\n",
      "dtype: int64\n"
     ]
    }
   ],
   "source": [
    "# Conditionals should be applied as vector operations, comparing the entire series in one go\n",
    "print(math_scores)\n",
    "if True:\n",
    "#     print(math_scores > 50)\n",
    "#     print(math_scores > math_scores.mean())\n",
    "    print(math_scores[math_scores > math_scores.mean()])\n",
    "    \n",
    "if False:\n",
    "    #print(math_scores[math_scores > math_scores.mean()])\n",
    "    print(science_scores[science_scores > 30])"
   ]
  },
  {
   "cell_type": "markdown",
   "metadata": {},
   "source": [
    "#### Exercise\n",
    "\n",
    "For the Student Scores above, let's say we wanted to print out the students that were in the 90th percentile of the class (based on the sum of their math and science scores)."
   ]
  },
  {
   "cell_type": "code",
   "execution_count": 41,
   "metadata": {},
   "outputs": [
    {
     "name": "stdout",
     "output_type": "stream",
     "text": [
      "Charlie    71\n",
      "dtype: int64\n"
     ]
    }
   ],
   "source": [
    "# Use the Series.quantile() function to determine the percentile cutoff and then use that value as a filter conditional\n",
    "\n",
    "scores = math_scores + science_scores\n",
    "print(scores[scores > scores.quantile(0.9)])\n",
    "    "
   ]
  },
  {
   "cell_type": "markdown",
   "metadata": {},
   "source": [
    "### Series.apply()\n",
    "\n",
    "Pandas Series offers the ability to run custom functions against its elements. This works by taking in a function as an argument and returning a new Series that holds the return values of the function `applied` to the elements of the original series. This is very similar to the python built-in `map()` function on Lists "
   ]
  },
  {
   "cell_type": "code",
   "execution_count": 105,
   "metadata": {},
   "outputs": [
    {
     "name": "stdout",
     "output_type": "stream",
     "text": [
      "0     1\n",
      "1     4\n",
      "2     9\n",
      "3    16\n",
      "4    25\n",
      "dtype: int64\n"
     ]
    }
   ],
   "source": [
    "def square(x):\n",
    "    return x**2\n",
    "\n",
    "def cube(x):\n",
    "    return x**3\n",
    "\n",
    "nums = pd.Series([1, 2, 3, 4, 5])\n",
    "\n",
    "# \"Applies\" the function square to each element of nums and returns a new Series with the results.\n",
    "nums.apply(square)\n",
    "\n",
    "print(nums**2)"
   ]
  },
  {
   "cell_type": "markdown",
   "metadata": {},
   "source": [
    "#### Exercise\n",
    "\n",
    "Given a Series of names, write a function that reverses these names and prints them out in the format `LastName, FirstName`."
   ]
  },
  {
   "cell_type": "code",
   "execution_count": 43,
   "metadata": {},
   "outputs": [
    {
     "name": "stdout",
     "output_type": "stream",
     "text": [
      "['Andre', 'Agassi']\n"
     ]
    }
   ],
   "source": [
    "names = pd.Series([\n",
    "    'Andre Agassi',\n",
    "    'Barry Bonds',\n",
    "    'Christopher Columbus',\n",
    "    'Daniel Defoe',\n",
    "    'Emilio Estevez',\n",
    "    'Fred Flintstone',\n",
    "    'Greta Garbo',\n",
    "    'Humbert Humbert',\n",
    "    'Ivan Ilych',\n",
    "    'James Joyce',\n",
    "    'Keira Knightley',\n",
    "    'Lois Lane',\n",
    "    'Mike Myers',\n",
    "    'Nick Nolte',\n",
    "    'Ozzy Osbourne',\n",
    "    'Pablo Picasso',\n",
    "    'Quirinus Quirrell',\n",
    "    'Rachael Ray',\n",
    "    'Susan Sarandon',\n",
    "    'Tina Turner',\n",
    "    'Ugueth Urbina',\n",
    "    'Vince Vaughn',\n",
    "    'Woodrow Wilson',\n",
    "    'Yoji Yamada',\n",
    "    'Zinedine Zidane'\n",
    "])\n",
    "\n",
    "\n",
    "def reverse_names(names):\n",
    "    '''\n",
    "    Use the split() function on the strings to separate the first and last names and then use\n",
    "    String.format() to print it out in the desired format.\n",
    "    \n",
    "    Try to use the Pandas apply() function NOT a loop.\n",
    "    '''\n",
    "    pass\n",
    "    \n",
    "    \n",
    "reverse_names(names)"
   ]
  },
  {
   "cell_type": "markdown",
   "metadata": {},
   "source": [
    "### Plotting\n",
    "\n",
    "Pandas Series comes with inbuilt support for plotting data via the standard function `plot()`. Call `plot()` on its own to get a line-plot of the data in the Series using the default options. \n",
    "\n",
    "Pass options to plot to change the layout in the graph to [customize](http://pandas.pydata.org/pandas-docs/stable/generated/pandas.Series.plot.html#pandas.Series.plot) it. "
   ]
  },
  {
   "cell_type": "code",
   "execution_count": 101,
   "metadata": {},
   "outputs": [
    {
     "data": {
      "text/plain": [
       "<matplotlib.axes._subplots.AxesSubplot at 0x11f8d6e10>"
      ]
     },
     "execution_count": 101,
     "metadata": {},
     "output_type": "execute_result"
    },
    {
     "data": {
      "image/png": "[encoded data removed]",
      "text/plain": [
       "<Figure size 432x288 with 1 Axes>"
      ]
     },
     "metadata": {},
     "output_type": "display_data"
    }
   ],
   "source": [
    "import seaborn as sns\n",
    "\n",
    "employment = pd.Series(\n",
    "    [75.8000030518, 75.8000030518, 75.5, 75.9000015259, 75.8000030518, 75.9000015259, 75.6999969482, 75.5999984741,\n",
    "     75.5999984741, 75.5, 75.5, 75.5999984741, 75.5, 75.5, 75.5999984741, 75.5, 75.6999969482],\n",
    "    index=[1991, 1992, 1993, 1994, 1995, 1996, 1997, 1998, 1999, 2000, 2001, 2002, 2003, 2004, 2005, 2006, 2007]\n",
    ")\n",
    "\n",
    "# employment.plot()\n",
    "employment.plot(kind='pie', title=\"Employment\")\n",
    "# employment.plot.pie()"
   ]
  },
  {
   "cell_type": "markdown",
   "metadata": {
    "collapsed": true
   },
   "source": [
    "Consider the following exercise.\n",
    "\n",
    "### Exercise\n",
    "Given two data-sets, write a function that measures the direction of each of the element values with respect to their means.\n",
    "\n",
    "The function should return two numbers.\n",
    " 1. The number of times when an element in an array is above its mean and the element at the same index at the other data set is also above its mean. The same for when they are both below their means. This number records the number of times that the data set elements in the two arrays move in the same direction.\n",
    " 2. The number of times when the elements of the data set move in opposite directions.So if an element in one array is above its mean and the corresponding element in the other array is below its mean or vice versa."
   ]
  },
  {
   "cell_type": "code",
   "execution_count": 56,
   "metadata": {},
   "outputs": [
    {
     "name": "stdout",
     "output_type": "stream",
     "text": [
      "0.750942874592\n"
     ]
    }
   ],
   "source": [
    "life_expectancy_values = [74.7, 75., 83.4, 57.6, 74.6, 75.4, 72.3, 81.5, 80.2,\n",
    "                          70.3, 72.1, 76.4, 68.1, 75.2, 69.8, 79.4, 70.8, 62.7,\n",
    "                          67.3, 70.6]\n",
    "\n",
    "gdp_values = [1681.61390973, 2155.48523109, 21495.80508273, 562.98768478,\n",
    "              13495.1274663, 9388.68852258, 1424.19056199, 24765.54890176,\n",
    "              27036.48733192, 1945.63754911, 21721.61840978, 13373.21993972,\n",
    "              483.97086804, 9783.98417323, 2253.46411147, 25034.66692293,\n",
    "              3680.91642923, 366.04496652, 1175.92638695, 1132.21387981]\n",
    "\n",
    "# Life expectancy and gdp data in 2007 for 20 countries\n",
    "life_expectancy = pd.Series(life_expectancy_values)\n",
    "gdp = pd.Series(gdp_values)\n",
    "\n",
    "\n",
    "def variable_correlation(variable1, variable2):\n",
    "    \"\"\"\n",
    "    Determine data set correlation\n",
    "    \n",
    "    Hint: Use the mean() function to determine the mean value in the data-set\n",
    "    Use the logical operators to determine what values in each Series are above their means to get two series of \n",
    "    booleans. Then use the & operator to combine them into one Series of booleans that will give you the case for\n",
    "    when both values are above their means. Do the same for the case when both values are below their means.\n",
    "    Combine these two resultant series using the | operator to get a Series stating when the values in each index\n",
    "    are either both above OR both below their means\n",
    "    \n",
    "    Use the value_counts() function Series to return back the counts of Trues and Falses.\n",
    "    \"\"\"\n",
    "    gdp_mean = gdp.mean()\n",
    "    life_mean = life_expectancy.mean()\n",
    "    \n",
    "    return (((gdp > gdp_mean) & (life_expectancy > life_mean)) | ((gdp < gdp_mean) & (life_expectancy < life_mean))).value_counts()\n",
    "\n",
    "#variable_correlation(life_expectancy, gdp)\n",
    "\n",
    "print(life_expectancy.corr(gdp))"
   ]
  },
  {
   "cell_type": "markdown",
   "metadata": {},
   "source": [
    "We see in the output that in most cases the data-set elements are either both above or below their means, indicating that they are `positively correlated`. If we had a case where when one element went above its mean and the other corresponding element went below its mean that would indicated `negative correlation`, indicating the data-sets move opposite to each other."
   ]
  },
  {
   "cell_type": "markdown",
   "metadata": {},
   "source": [
    "### Resources\n",
    "\n",
    "The pandas reference page provides copious documentation on the operations available on `Series`. To get more familiar with Series, be sure to check out the links here http://pandas.pydata.org/pandas-docs/stable/index.html. Information specifically about Series can be found here http://pandas.pydata.org/pandas-docs/stable/dsintro.html#series"
   ]
  }
 ],
 "metadata": {
  "kernelspec": {
   "display_name": "Python 3",
   "language": "python",
   "name": "python3"
  },
  "language_info": {
   "codemirror_mode": {
    "name": "ipython",
    "version": 3
   },
   "file_extension": ".py",
   "mimetype": "text/x-python",
   "name": "python",
   "nbconvert_exporter": "python",
   "pygments_lexer": "ipython3",
   "version": "3.7.2"
  }
 },
 "nbformat": 4,
 "nbformat_minor": 1
}
